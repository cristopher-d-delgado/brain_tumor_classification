{
 "cells": [
  {
   "cell_type": "code",
   "execution_count": 1,
   "metadata": {},
   "outputs": [
    {
     "name": "stdout",
     "output_type": "stream",
     "text": [
      "Dash app running on http://localhost:5000/\n"
     ]
    },
    {
     "data": {
      "text/html": [
       "\n",
       "        <iframe\n",
       "            width=\"100%\"\n",
       "            height=\"650\"\n",
       "            src=\"http://localhost:5000/\"\n",
       "            frameborder=\"0\"\n",
       "            allowfullscreen\n",
       "            \n",
       "        ></iframe>\n",
       "        "
      ],
      "text/plain": [
       "<IPython.lib.display.IFrame at 0x1d50e71d9a0>"
      ]
     },
     "metadata": {},
     "output_type": "display_data"
    }
   ],
   "source": [
    "# import jupyter notebook version of dash framework\n",
    "from jupyter_dash import JupyterDash as Dash\n",
    "# import callbacks\n",
    "from dash import Input, Output, State\n",
    "# import html elements for dash\n",
    "from dash import html\n",
    "# Import markdown html translations\n",
    "from dash import dcc\n",
    "# Import warnings to ignore warnings\n",
    "import warnings\n",
    "warnings.filterwarnings('ignore')\n",
    "# import os\n",
    "import os\n",
    "\n",
    "# Define image dataset path to use for app\n",
    "image_dataset_path = \"../data/testing\"\n",
    "\n",
    "# Define the subdirectories for the lesion types\n",
    "subdirectories = [\"no_tumor\", \"glioma\", \"meningioma\", \"pituitary\"]\n",
    "\n",
    "# Function to get image file names from a directory\n",
    "def get_image_files(directory):\n",
    "    files = os.listdir(directory)\n",
    "    return [f for f in files if f.endswith('.jpg')]\n",
    "\n",
    "# Create dropdown options from subdirectories\n",
    "dropdown_options = [\n",
    "    {\"label\": subdir.capitalize(), \"value\": subdir} \n",
    "    for subdir in subdirectories\n",
    "]\n",
    "\n",
    "# Define style sheet \n",
    "external_stylesheets = ['https://codepen.io/chriddyp/pen/bWLwgP.css']\n",
    "\n",
    "# Create the dash app\n",
    "app = Dash(__name__, external_stylesheets=external_stylesheets)\n",
    "\n",
    "# Create markdown for our dashboard\n",
    "markdown_1 = dcc.Markdown(\"\"\"\n",
    "    # Brain Tumor Lesion Assesment\n",
    "\"\"\")\n",
    "\n",
    "markdown_2 = dcc.Markdown(\"\"\"\n",
    "    The model integrated in into this dashbaord has the capability to predict different brian lesions.\n",
    "    The four supported brain lession classification are Meningioma, Pituitary, Glioma tumors. \n",
    "    The fourth possible prediction would be a No Tumor classification.\n",
    "\"\"\")\n",
    "\n",
    "# Upload image\n",
    "upload_img = dcc.Upload(\n",
    "    id='upload-image',\n",
    "    children=html.Div([\n",
    "        'Drag and Drop or ',\n",
    "        html.A('Select File')\n",
    "    ]),\n",
    "        style={\n",
    "        'width': '100%',\n",
    "        'height': '60px',\n",
    "        'lineHeight': '60px',\n",
    "        'borderWidth': '1px',\n",
    "        'borderStyle': 'dashed',\n",
    "        'borderRadius': '5px',\n",
    "        'textAlign': 'center',\n",
    "        'margin': '10px'\n",
    "    },\n",
    "    multiple=True, # Do not allow multiple uploads\n",
    ")\n",
    "\n",
    "# Set the layout\n",
    "app.layout = html.Div(children=[\n",
    "    html.Div(markdown_1),\n",
    "    html.Div(markdown_2),\n",
    "    html.Div([upload_img, html.Div(id='output-image-upload')]),\n",
    "])\n",
    "\n",
    "# function to parse file path \n",
    "def parse_contents(contents, filename):\n",
    "    return html.Div([\n",
    "        html.H5(filename),\n",
    "\n",
    "        # HTML images accept base64 encoded strings in the same format\n",
    "        # that is supplied by the upload\n",
    "        html.Img(src=contents),\n",
    "        html.Hr()\n",
    "    ])\n",
    "# Define callback \n",
    "@app.callback(Output('output-image-upload', 'children'),\n",
    "                Input('upload-image', 'contents'),\n",
    "                State('upload-image', 'filename'))\n",
    "# Define an update function\n",
    "def update_output(list_of_contents, list_of_names):\n",
    "    if list_of_contents is not None:\n",
    "        children = [\n",
    "            parse_contents(c, n) for c, n in\n",
    "            zip(list_of_contents, list_of_names)]\n",
    "        return children\n",
    "\n",
    "if __name__ == '__main__':\n",
    "    app.run_server(mode='external', host='localhost', port=5000)"
   ]
  },
  {
   "cell_type": "code",
   "execution_count": 3,
   "metadata": {},
   "outputs": [
    {
     "data": {
      "text/html": [
       "\n",
       "        <iframe\n",
       "            width=\"100%\"\n",
       "            height=\"650\"\n",
       "            src=\"http://127.0.0.1:8050/\"\n",
       "            frameborder=\"0\"\n",
       "            allowfullscreen\n",
       "            \n",
       "        ></iframe>\n",
       "        "
      ],
      "text/plain": [
       "<IPython.lib.display.IFrame at 0x2acabf0e280>"
      ]
     },
     "metadata": {},
     "output_type": "display_data"
    }
   ],
   "source": [
    "# from dash import Dash, dcc, html, Input, Output, State, callback\n",
    "\n",
    "# import datetime\n",
    "\n",
    "# external_stylesheets = ['https://codepen.io/chriddyp/pen/bWLwgP.css']\n",
    "\n",
    "# app = Dash(__name__, external_stylesheets=external_stylesheets)\n",
    "\n",
    "# app.layout = html.Div([\n",
    "#     dcc.Upload(\n",
    "#         id='upload-image',\n",
    "#         children=html.Div([\n",
    "#             'Drag and Drop or ',\n",
    "#             html.A('Select Files')\n",
    "#         ]),\n",
    "#         style={\n",
    "#             'width': '100%',\n",
    "#             'height': '60px',\n",
    "#             'lineHeight': '60px',\n",
    "#             'borderWidth': '1px',\n",
    "#             'borderStyle': 'dashed',\n",
    "#             'borderRadius': '5px',\n",
    "#             'textAlign': 'center',\n",
    "#             'margin': '10px'\n",
    "#         },\n",
    "#         # Allow multiple files to be uploaded\n",
    "#         multiple=True\n",
    "#     ),\n",
    "#     html.Div(id='output-image-upload'),\n",
    "# ])\n",
    "\n",
    "# def parse_contents(contents, filename, date):\n",
    "#     return html.Div([\n",
    "#         html.H5(filename),\n",
    "#         html.H6(datetime.datetime.fromtimestamp(date)),\n",
    "\n",
    "#         # HTML images accept base64 encoded strings in the same format\n",
    "#         # that is supplied by the upload\n",
    "#         html.Img(src=contents),\n",
    "#         html.Hr(),\n",
    "#         html.Div('Raw Content'),\n",
    "#         html.Pre(contents[0:200] + '...', style={\n",
    "#             'whiteSpace': 'pre-wrap',\n",
    "#             'wordBreak': 'break-all'\n",
    "#         })\n",
    "#     ])\n",
    "\n",
    "# @callback(Output('output-image-upload', 'children'),\n",
    "#               Input('upload-image', 'contents'),\n",
    "#               State('upload-image', 'filename'),\n",
    "#               State('upload-image', 'last_modified'))\n",
    "# def update_output(list_of_contents, list_of_names, list_of_dates):\n",
    "#     if list_of_contents is not None:\n",
    "#         children = [\n",
    "#             parse_contents(c, n, d) for c, n, d in\n",
    "#             zip(list_of_contents, list_of_names, list_of_dates)]\n",
    "#         return children\n",
    "\n",
    "# if __name__ == '__main__':\n",
    "#     app.run(debug=True)"
   ]
  },
  {
   "cell_type": "code",
   "execution_count": 4,
   "metadata": {},
   "outputs": [
    {
     "data": {
      "text/html": [
       "\n",
       "        <iframe\n",
       "            width=\"100%\"\n",
       "            height=\"650\"\n",
       "            src=\"http://localhost:5000/\"\n",
       "            frameborder=\"0\"\n",
       "            allowfullscreen\n",
       "            \n",
       "        ></iframe>\n",
       "        "
      ],
      "text/plain": [
       "<IPython.lib.display.IFrame at 0x2acad9673d0>"
      ]
     },
     "metadata": {},
     "output_type": "display_data"
    }
   ],
   "source": [
    "app.run_server(mode=\"external\", height=500, host=\"localhost\", port=5000)"
   ]
  }
 ],
 "metadata": {
  "kernelspec": {
   "display_name": "gpudl3",
   "language": "python",
   "name": "python3"
  },
  "language_info": {
   "codemirror_mode": {
    "name": "ipython",
    "version": 3
   },
   "file_extension": ".py",
   "mimetype": "text/x-python",
   "name": "python",
   "nbconvert_exporter": "python",
   "pygments_lexer": "ipython3",
   "version": "3.9.18"
  }
 },
 "nbformat": 4,
 "nbformat_minor": 2
}
