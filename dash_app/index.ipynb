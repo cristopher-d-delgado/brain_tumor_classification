{
 "cells": [
  {
   "cell_type": "code",
   "execution_count": 1,
   "metadata": {},
   "outputs": [],
   "source": [
    "# import jupyter notebook version of dash framework\n",
    "from jupyter_dash import JupyterDash as Dash\n",
    "# import callbacks\n",
    "from dash import Input, Output\n",
    "# import html elements for dash\n",
    "from dash import html\n",
    "# Import markdown html translations\n",
    "from dash import dcc\n",
    "# Import warnings to ignore warnings\n",
    "import warnings\n",
    "warnings.filterwarnings('ignore')\n",
    "# import os\n",
    "import os\n",
    "\n",
    "# Define image dataset path to use for app\n",
    "image_dataset_path = \"../data/testing\"\n",
    "\n",
    "# Define the subdirectories for the lesion types\n",
    "subdirectories = [\"no_tumor\", \"glioma\", \"meningioma\", \"pituitary\"]\n",
    "\n",
    "# Function to get image file names from a directory\n",
    "def get_image_files(directory):\n",
    "    files = os.listdir(directory)\n",
    "    return [f for f in files if f.endswith('.jpg')]\n",
    "\n",
    "# Create dropdown options from subdirectories\n",
    "dropdown_options = [\n",
    "    {\"label\": subdir.capitalize(), \"value\": subdir} \n",
    "    for subdir in subdirectories\n",
    "]\n",
    "\n",
    "# Create the dash app\n",
    "app = Dash(__name__)\n",
    "\n",
    "# Create markdown for our dashboard\n",
    "markdown_1 = dcc.Markdown(\"\"\"\n",
    "    # Brain Tumor Lesion Assesment\n",
    "\"\"\")\n",
    "\n",
    "markdown_2 = dcc.Markdown(\"\"\"\n",
    "    The model integrated in into this dashbaord has the capability to predict different brian lesions.\n",
    "    The four supported brain lession classification are Meningioma, Pituitary, Glioma tumors. \n",
    "    The fourth possible prediction would be a No Tumor classification.\n",
    "\"\"\")\n",
    "\n",
    "# Create the dropdowns to choose Lesion type and images\n",
    "dropdowns = []\n",
    "for lesion_type in subdirectories:\n",
    "    image_files = get_image_files(os.path.join(image_dataset_path, lesion_type))\n",
    "    options = [{\"label\": file, \"value\": file} for file in image_files]\n",
    "    dropdown = html.Div([\n",
    "        f\"Select an Image for {lesion_type.capitalize()}:\",\n",
    "        dcc.Dropdown(\n",
    "            id=f\"image-dropdown-{lesion_type}\",\n",
    "            options=options\n",
    "        )\n",
    "    ])\n",
    "    dropdowns.append(dropdown)\n",
    "\n",
    "# Create empty div to hold selected image\n",
    "selected_image_div = html.Div(id='selected-image-upload')\n",
    "\n",
    "# Set the layout\n",
    "app.layout = html.Div(children=[\n",
    "    html.Div(markdown_1),\n",
    "    html.Div(markdown_2),\n",
    "    *dropdowns,\n",
    "    html.Div(selected_image_div),\n",
    "])\n",
    "\n",
    "# Create empty html.Img components for each dropdown to display selected images\n",
    "selected_image_divs = [html.Img(id=f'selected-image-div-{lesion_type}', style={'width': '300px'}) for lesion_type in subdirectories]\n",
    "\n",
    "# Callbacks to update selected image based on dropdown selection\n",
    "for lesion_type in subdirectories:\n",
    "    @app.callback(\n",
    "        Output(f'selected-image-div-{lesion_type}', 'src'),\n",
    "        [Input(f'image-dropdown-{lesion_type}', 'value')]\n",
    "    )\n",
    "    def update_selected_image(selected_image_path):\n",
    "        if selected_image_path is not None:\n",
    "            image_src = f'{image_dataset_path}/{lesion_type}/{selected_image_path}'\n",
    "            print(\"Selected Image Path:\", image_src)  # Print selected image path for debugging\n",
    "            return image_src\n",
    "        else:\n",
    "            return \"\"\n",
    "\n",
    "# # Callback to update selected image based on dropdown selection\n",
    "# @app.callback(\n",
    "#     Output('selected-image-upload', 'children'),\n",
    "#     [Input(f'image-dropdown-{lesion_type}', 'value') for lesion_type in subdirectories]\n",
    "# )\n",
    "# # Update the image selection\n",
    "# def update_selected_image(*selected_image_paths):\n",
    "#     images = []\n",
    "#     for lesion_type, path in zip(subdirectories, selected_image_paths):\n",
    "#         if path is not None:\n",
    "#             image_src = f'{image_dataset_path}/{lesion_type}/{path}'\n",
    "#             print(\"Image Source:\", image_src)  # Print image source for debugging\n",
    "#             images.append(html.Img(src=image_src, style={'width': '300px'}))\n",
    "#     return [images]"
   ]
  },
  {
   "cell_type": "code",
   "execution_count": 2,
   "metadata": {},
   "outputs": [
    {
     "data": {
      "text/html": [
       "\n",
       "        <iframe\n",
       "            width=\"100%\"\n",
       "            height=\"650\"\n",
       "            src=\"http://localhost:5000/\"\n",
       "            frameborder=\"0\"\n",
       "            allowfullscreen\n",
       "            \n",
       "        ></iframe>\n",
       "        "
      ],
      "text/plain": [
       "<IPython.lib.display.IFrame at 0x1ec350adb20>"
      ]
     },
     "metadata": {},
     "output_type": "display_data"
    },
    {
     "data": {
      "text/html": [
       "\n",
       "        <iframe\n",
       "            width=\"100%\"\n",
       "            height=\"650\"\n",
       "            src=\"http://localhost:5000/\"\n",
       "            frameborder=\"0\"\n",
       "            allowfullscreen\n",
       "            \n",
       "        ></iframe>\n",
       "        "
      ],
      "text/plain": [
       "<IPython.lib.display.IFrame at 0x1ec335d3550>"
      ]
     },
     "metadata": {},
     "output_type": "display_data"
    }
   ],
   "source": [
    "app.run_server(mode=\"inline\", host=\"localhost\", port=5000)"
   ]
  }
 ],
 "metadata": {
  "kernelspec": {
   "display_name": "gpudl3",
   "language": "python",
   "name": "python3"
  },
  "language_info": {
   "codemirror_mode": {
    "name": "ipython",
    "version": 3
   },
   "file_extension": ".py",
   "mimetype": "text/x-python",
   "name": "python",
   "nbconvert_exporter": "python",
   "pygments_lexer": "ipython3",
   "version": "3.9.18"
  }
 },
 "nbformat": 4,
 "nbformat_minor": 2
}
