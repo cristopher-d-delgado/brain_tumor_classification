{
 "cells": [
  {
   "cell_type": "markdown",
   "metadata": {},
   "source": [
    "# Make Validation Folder"
   ]
  },
  {
   "cell_type": "markdown",
   "metadata": {},
   "source": [
    "The Kaggle dataset does not contain a validation folder. It only contains a train and test folder. We will have to remake the folders so we can make a validation folder. "
   ]
  },
  {
   "cell_type": "code",
   "execution_count": 1,
   "metadata": {},
   "outputs": [],
   "source": [
    "import os\n",
    "\n",
    "# Before modifying the folder lets discover the data distribution in its original state.\n",
    "\n",
    "# Define data folder containing images\n",
    "data = \"data/\"\n",
    "\n",
    "# Define subdirectories for train and test\n",
    "train_folder = os.path.join(data, \"Training/\")\n",
    "test_folder = os.path.join(data, \"Testing/\")\n",
    "\n",
    "# Define class subdirectories for train folder\n",
    "glioma_tumor_train = os.path.join(train_folder, \"glioma_tumor/\")\n",
    "meningioma_tumor_train = os.path.join(train_folder, \"meningioma_tumor\")\n",
    "no_tumor_train = os.path.join(train_folder, \"no_tumor\")\n",
    "pituitary_tumor_train = os.path.join(train_folder, \"pituitary_tumor\")\n",
    "\n",
    "# Define class subdirectories for test folder\n",
    "glioma_tumor_test = os.path.join(test_folder, \"glioma_tumor/\")\n",
    "meningioma_tumor_test = os.path.join(test_folder, \"meningioma_tumor\")\n",
    "no_tumor_test = os.path.join(test_folder, \"no_tumor\")\n",
    "pituitary_tumor_test = os.path.join(test_folder, \"pituitary_tumor\")"
   ]
  },
  {
   "cell_type": "code",
   "execution_count": null,
   "metadata": {},
   "outputs": [],
   "source": [
    "import matplotlib.pyplot as plt\n",
    "%matplotlib inline\n",
    "\n",
    "# Lets make a plot to show distributions \n",
    "fig, ax = plt.subplots(1, 2, facecolor='white')\n",
    "\n",
    "train_counts = {\n",
    "    \"Glioma Tumor\": len(os.listdir(glioma_tumor_train))\n",
    "    \"Meningioma Tumor\": len(os.list(meningioma_tumor_train))\n",
    "    \"No Tumor\": len(os.listdir(no_tumor_train))\n",
    "    \"\"\n",
    "}\n"
   ]
  }
 ],
 "metadata": {
  "kernelspec": {
   "display_name": "gpudl",
   "language": "python",
   "name": "python3"
  },
  "language_info": {
   "codemirror_mode": {
    "name": "ipython",
    "version": 3
   },
   "file_extension": ".py",
   "mimetype": "text/x-python",
   "name": "python",
   "nbconvert_exporter": "python",
   "pygments_lexer": "ipython3",
   "version": "3.9.18"
  }
 },
 "nbformat": 4,
 "nbformat_minor": 2
}
